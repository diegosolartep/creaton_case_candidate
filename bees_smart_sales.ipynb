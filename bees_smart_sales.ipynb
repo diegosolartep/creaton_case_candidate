{
 "cells": [
  {
   "cell_type": "markdown",
   "id": "ad6a2c6a",
   "metadata": {},
   "source": [
    "# BEES Smart Sales - Purchase Propensity & SKU Analytics\n",
    "\n",
    "**Objective:** Help ABI's sales team maximize effectiveness by analyzing purchase patterns and generating SKU-level recommendations for POCs (Points of Consumption).\n",
    "\n",
    "**Dataset:** ABI's BEES platform data with 500 POCs, 2,850 orders, 14,215 line items, 25 SKUs across 4 categories.\n",
    "\n",
    "**Time:** ~50 minutes\n",
    "\n",
    "---\n",
    "\n",
    "## 📋 Questions Overview\n",
    "\n",
    "1. **Data Exploration & POC × SKU Performance** (~15 min) - Load, join, analyze\n",
    "2. **Customer Propensity Modeling** (~20 min) - Build predictive model\n",
    "3. **SKU Recommendations & Business Insights** (~15 min) - Generate recommendations\n",
    "\n",
    "---\n"
   ]
  },
  {
   "cell_type": "markdown",
   "id": "9c89520f",
   "metadata": {},
   "source": [
    "### Setup & Imports"
   ]
  },
  {
   "cell_type": "code",
   "execution_count": null,
   "id": "imports",
   "metadata": {},
   "outputs": [],
   "source": [
    "import pandas as pd\n",
    "import numpy as np\n",
    "import matplotlib.pyplot as plt\n",
    "import seaborn as sns\n",
    "from datetime import datetime, timedelta\n",
    "from sklearn.model_selection import train_test_split\n",
    "from sklearn.ensemble import RandomForestClassifier\n",
    "from sklearn.linear_model import LogisticRegression\n",
    "from sklearn.metrics import accuracy_score, precision_score, recall_score, f1_score, confusion_matrix\n",
    "import warnings\n",
    "\n",
    "warnings.filterwarnings('ignore')\n",
    "\n",
    "# Set display options\n",
    "pd.set_option('display.max_columns', None)\n",
    "pd.set_option('display.max_rows', 100)\n",
    "\n",
    "print('[OK] Libraries imported')"
   ]
  },
  {
   "cell_type": "markdown",
   "id": "f6ce9dda",
   "metadata": {},
   "source": [
    "### 1.1 Load & Explore Data (5 points)\n",
    "\n",
    "Load all data files and perform basic exploration:\n",
    "- `data/customers.csv` - Customer master data\n",
    "- `data/orders.csv` - Order transactions  \n",
    "- `data/order_skus.csv` - Order line items (SKU level)\n",
    "- `data/products_catalog.csv` - Product/SKU master\n",
    "- `data/sales_visits.csv` - Sales visit history\n",
    "\n",
    "**Tasks:**\n",
    "1. Load all 5 files into DataFrames named: `customers`, `orders`, `order_skus`, `products_catalog`, `sales_visits`\n",
    "2. Display shape, columns, and first few rows of each\n",
    "3. Check for missing values\n",
    "4. Convert date columns to datetime (`order_date` and `visit_date`)\n",
    "5. Print summary statistics\n",
    "\n",
    "**Required variables:**\n",
    "- `customers` - DataFrame with customer data\n",
    "- `orders` - DataFrame with order transactions\n",
    "- `order_skus` - DataFrame with SKU-level line items\n",
    "- `products_catalog` - DataFrame with product master\n",
    "- `sales_visits` - DataFrame with visit history"
   ]
  },
  {
   "cell_type": "code",
   "execution_count": null,
   "id": "q1_load_data",
   "metadata": {
    "deletable": false,
    "nbgrader": {
     "cell_type": "code",
     "checksum": "15a6df731dd0dc1bc1cfb15f469827f3",
     "grade": false,
     "grade_id": "q1_load_data",
     "locked": false,
     "points": 0,
     "schema_version": 3,
     "solution": true,
     "task": false
    }
   },
   "outputs": [],
   "source": [
    "# YOUR CODE HERE\n",
    "raise NotImplementedError()"
   ]
  },
  {
   "cell_type": "code",
   "execution_count": null,
   "id": "test_q1_load_data",
   "metadata": {
    "deletable": false,
    "editable": false,
    "nbgrader": {
     "cell_type": "code",
     "checksum": "28d550b4b6b4de809c4d36f8791642aa",
     "grade": true,
     "grade_id": "test_q1_load_data",
     "hidden": true,
     "locked": false,
     "points": 5,
     "schema_version": 3,
     "solution": false,
     "task": false
    }
   },
   "outputs": [],
   "source": []
  },
  {
   "cell_type": "markdown",
   "id": "544f9cc5",
   "metadata": {},
   "source": [
    "### 1.2 Data Joins & POC × SKU Analysis (10 points)\n",
    "\n",
    "Join the datasets and calculate performance metrics at POC Type × SKU level:\n",
    "\n",
    "**Required Joins:**\n",
    "1. `order_skus` + `customers` (to get POC type for each line item)\n",
    "2. `order_skus` + `products_catalog` (to get category, margin, etc.)\n",
    "\n",
    "**Calculate these metrics by POC Type × SKU:**\n",
    "- Total revenue (`line_total`)\n",
    "- Total units sold (`quantity`)\n",
    "- Total margin (`revenue × margin_pct`)\n",
    "- Number of unique customers who bought\n",
    "- Penetration % (customers who bought / total customers in POC)\n",
    "\n",
    "**Store result in:** `poc_sku_performance` DataFrame\n",
    "\n",
    "**Required columns in `poc_sku_performance`:**\n",
    "- `poc_type` - POC type (Bar, Club, Hotel, etc.)\n",
    "- `sku` - Product SKU code\n",
    "- `product_name` - Product name\n",
    "- `category` - Product category\n",
    "- `total_revenue` - Total revenue for this POC × SKU\n",
    "- `total_units` - Total units sold\n",
    "- `total_margin` - Total margin\n",
    "- `customer_count` - Number of customers who bought\n",
    "- `penetration_pct` - Percentage of POC customers who bought this SKU"
   ]
  },
  {
   "cell_type": "code",
   "execution_count": null,
   "id": "q1_poc_sku_analysis",
   "metadata": {
    "deletable": false,
    "nbgrader": {
     "cell_type": "code",
     "checksum": "0ee5a9a1d376f8f805151dd35ad8b0d8",
     "grade": false,
     "grade_id": "q1_poc_sku_analysis",
     "locked": false,
     "points": 0,
     "schema_version": 3,
     "solution": true,
     "task": false
    }
   },
   "outputs": [],
   "source": [
    "# YOUR CODE HERE\n",
    "raise NotImplementedError()"
   ]
  },
  {
   "cell_type": "code",
   "execution_count": null,
   "id": "test_q1_poc_sku_analysis",
   "metadata": {
    "deletable": false,
    "editable": false,
    "nbgrader": {
     "cell_type": "code",
     "checksum": "fd37d8fc19b41bd3fddefb403ff8b45c",
     "grade": true,
     "grade_id": "test_q1_poc_sku_analysis",
     "hidden": true,
     "locked": false,
     "points": 10,
     "schema_version": 3,
     "solution": false,
     "task": false
    }
   },
   "outputs": [],
   "source": []
  },
  {
   "cell_type": "markdown",
   "id": "1891c58e",
   "metadata": {},
   "source": [
    "### 1.3 Key Insights & Export (5 points)\n",
    "\n",
    "Answer these questions using your `poc_sku_performance` DataFrame:\n",
    "\n",
    "1. **Top 3 SKUs by revenue** for each POC type\n",
    "2. **Top 3 SKUs by penetration** for each POC type  \n",
    "3. **Which categories** perform best in which POC types?\n",
    "4. **Which POC type** generates the most total revenue?\n",
    "5. **Export** `poc_sku_performance` to `outputs/poc_sku_performance.csv`\n",
    "\n",
    "Display your findings clearly with appropriate labels.\n",
    "\n",
    "**Required output:**\n",
    "- File: `outputs/poc_sku_performance.csv` (must exist)"
   ]
  },
  {
   "cell_type": "code",
   "execution_count": null,
   "id": "q1_insights",
   "metadata": {
    "deletable": false,
    "nbgrader": {
     "cell_type": "code",
     "checksum": "0b7d69b4d219e051212145360f40990d",
     "grade": false,
     "grade_id": "q1_insights",
     "locked": false,
     "points": 0,
     "schema_version": 3,
     "solution": true,
     "task": false
    }
   },
   "outputs": [],
   "source": [
    "# YOUR CODE HERE\n",
    "raise NotImplementedError()"
   ]
  },
  {
   "cell_type": "code",
   "execution_count": null,
   "id": "test_q1_insights",
   "metadata": {
    "deletable": false,
    "editable": false,
    "nbgrader": {
     "cell_type": "code",
     "checksum": "ef5c59fb19c59a7c4ee0bd0c35d31ac1",
     "grade": true,
     "grade_id": "test_q1_insights",
     "hidden": true,
     "locked": false,
     "points": 5,
     "schema_version": 3,
     "solution": false,
     "task": false
    }
   },
   "outputs": [],
   "source": []
  },
  {
   "cell_type": "markdown",
   "id": "4f91ca46",
   "metadata": {},
   "source": [
    "### 2.1 Feature Engineering (10 points)\n",
    "\n",
    "Create features for each customer:\n",
    "\n",
    "**RFM Features:**\n",
    "- `recency` - Days since last order (from most recent order date to analysis date)\n",
    "- `frequency` - Total number of orders\n",
    "- `monetary` - Total revenue generated\n",
    "\n",
    "**POC-Specific Features:**\n",
    "- `poc_type` - Customer's POC type (one-hot encode: Bar, Club, Hotel, Kiosk, Restaurant, Supermarket)\n",
    "- `visit_count` - Total sales visits\n",
    "- `conversion_rate` - Orders / visits\n",
    "- `avg_order_value` - Average $ per order\n",
    "\n",
    "**SKU Pattern Features:**\n",
    "- `unique_skus` - Number of different SKUs purchased\n",
    "- `pct_beer` - % of revenue from Beer category\n",
    "- `pct_spirits` - % of revenue from Spirits category\n",
    "- `pct_nab` - % of revenue from NAB category\n",
    "- `pct_snacks` - % of revenue from Snacks category\n",
    "\n",
    "**Target Variable:**\n",
    "- `will_purchase_next_30` - Binary (1 if customer has order in next 30 days from cutoff, 0 otherwise)\n",
    "  - Use cutoff date: 30 days before max order date\n",
    "  - Customers with orders after cutoff = 1, else = 0\n",
    "\n",
    "**Store in:** `customer_features` DataFrame\n",
    "\n",
    "**Required:**\n",
    "- Variable name: `customer_features`\n",
    "- Must include columns: `recency`, `frequency`, `monetary`, `will_purchase_next_30`\n",
    "- Target variable should be binary (int or bool)"
   ]
  },
  {
   "cell_type": "code",
   "execution_count": null,
   "id": "q2_feature_engineering",
   "metadata": {
    "deletable": false,
    "nbgrader": {
     "cell_type": "code",
     "checksum": "a3bf5b43382f8954606f1ef2406d5fcf",
     "grade": false,
     "grade_id": "q2_feature_engineering",
     "locked": false,
     "points": 0,
     "schema_version": 3,
     "solution": true,
     "task": false
    }
   },
   "outputs": [],
   "source": [
    "# YOUR CODE HERE\n",
    "raise NotImplementedError()"
   ]
  },
  {
   "cell_type": "code",
   "execution_count": null,
   "id": "test_q2_feature_engineering",
   "metadata": {
    "deletable": false,
    "editable": false,
    "nbgrader": {
     "cell_type": "code",
     "checksum": "ddf2d04859e2987baae55330223d4fad",
     "grade": true,
     "grade_id": "test_q2_feature_engineering",
     "hidden": true,
     "locked": false,
     "points": 10,
     "schema_version": 3,
     "solution": false,
     "task": false
    }
   },
   "outputs": [],
   "source": []
  },
  {
   "cell_type": "markdown",
   "id": "model_training_section",
   "metadata": {},
   "source": [
    "### 2.2 Model Training & Evaluation (15 points)\n",
    "\n",
    "Build and evaluate a classification model:\n",
    "\n",
    "**Steps:**\n",
    "\n",
    "1. **Prepare data:**\n",
    "   - Separate features (X) and target (y)\n",
    "   - Handle POC type encoding (one-hot or label encoding)\n",
    "   - Split into train (80%) and test (20%) sets, use `random_state=42`\n",
    "\n",
    "2. **Train model:**\n",
    "   - Use Random Forest or Logistic Regression\n",
    "   - Fit on training data\n",
    "\n",
    "3. **Evaluate:**\n",
    "   - Predict on test set\n",
    "   - Calculate: Accuracy, Precision, Recall, F1 Score\n",
    "   - Display confusion matrix\n",
    "   - Show feature importance (top 10)\n",
    "\n",
    "4. **Store:**\n",
    "   - Trained model in variable `propensity_model`\n",
    "   - Test metrics in dict `model_metrics` with key `accuracy`\n",
    "\n",
    "**Required variables:**\n",
    "- `propensity_model` - Your trained model object\n",
    "- `model_metrics` - Dictionary with at least `{'accuracy': score}`"
   ]
  },
  {
   "cell_type": "code",
   "execution_count": null,
   "id": "q2_model_training",
   "metadata": {
    "deletable": false,
    "nbgrader": {
     "cell_type": "code",
     "checksum": "218913bb244d0c829696e044d1793831",
     "grade": false,
     "grade_id": "q2_model_training",
     "locked": false,
     "points": 0,
     "schema_version": 3,
     "solution": true,
     "task": false
    }
   },
   "outputs": [],
   "source": [
    "# YOUR CODE HERE\n",
    "raise NotImplementedError()"
   ]
  },
  {
   "cell_type": "code",
   "execution_count": null,
   "id": "test_q2_model_training",
   "metadata": {
    "deletable": false,
    "editable": false,
    "nbgrader": {
     "cell_type": "code",
     "checksum": "1a0f811c9ee17912d1e3b41d6fcf6224",
     "grade": true,
     "grade_id": "test_q2_model_training",
     "hidden": true,
     "locked": false,
     "points": 15,
     "schema_version": 3,
     "solution": false,
     "task": false
    }
   },
   "outputs": [],
   "source": []
  },
  {
   "cell_type": "markdown",
   "id": "d8a8ff19",
   "metadata": {},
   "source": [
    "### 2.3 Propensity Scoring & Segmentation (5 points)\n",
    "\n",
    "Score all customers and segment by propensity:\n",
    "\n",
    "1. **Score all customers:**\n",
    "   - Use trained model to predict probability of purchase\n",
    "   - Add `propensity_score` column to customers\n",
    "\n",
    "2. **Segment customers:**\n",
    "   - High: propensity ≥ 0.7\n",
    "   - Medium: 0.4 ≤ propensity < 0.7\n",
    "   - Low: propensity < 0.4\n",
    "\n",
    "3. **Show:**\n",
    "   - Top 20 highest propensity customers with their POC type and score\n",
    "   - Count of customers in each segment\n",
    "\n",
    "4. **Export:** `outputs/customer_propensity_scores.csv`\n",
    "\n",
    "**Required output file with columns:**\n",
    "- `customer_id`\n",
    "- `poc_type`\n",
    "- `propensity_score` - Probability of purchase\n",
    "- `propensity_segment` - High/Medium/Low"
   ]
  },
  {
   "cell_type": "code",
   "execution_count": null,
   "id": "q2_propensity_scoring",
   "metadata": {
    "deletable": false,
    "nbgrader": {
     "cell_type": "code",
     "checksum": "9232a67dad10813e38243483facdc781",
     "grade": false,
     "grade_id": "q2_propensity_scoring",
     "locked": false,
     "points": 0,
     "schema_version": 3,
     "solution": true,
     "task": false
    }
   },
   "outputs": [],
   "source": [
    "# YOUR CODE HERE\n",
    "raise NotImplementedError()"
   ]
  },
  {
   "cell_type": "code",
   "execution_count": null,
   "id": "test_q2_propensity_scoring",
   "metadata": {
    "deletable": false,
    "editable": false,
    "nbgrader": {
     "cell_type": "code",
     "checksum": "3db65070e007600fdd95ec9ade5e4a80",
     "grade": true,
     "grade_id": "test_q2_propensity_scoring",
     "hidden": true,
     "locked": false,
     "points": 5,
     "schema_version": 3,
     "solution": false,
     "task": false
    }
   },
   "outputs": [],
   "source": []
  },
  {
   "cell_type": "markdown",
   "id": "a998b95c",
   "metadata": {},
   "source": [
    "### 3.1 SKU Gap Analysis & Opportunity Scores (10 points)\n",
    "\n",
    "For HIGH propensity customers only (propensity ≥ 0.7):\n",
    "\n",
    "1. **Identify SKU gaps:**\n",
    "   - For each customer, find SKUs they haven't purchased yet\n",
    "   - Only consider SKUs with >30% penetration in that customer's POC type\n",
    "\n",
    "2. **Calculate opportunity score:**\n",
    "   ```\n",
    "   opportunity_score = poc_penetration × margin_pct × avg_quantity × unit_price\n",
    "   ```\n",
    "   Where:\n",
    "   - `poc_penetration` - % of customers in this POC who buy this SKU\n",
    "   - `margin_pct` - Product margin %\n",
    "   - `avg_quantity` - Average quantity purchased per order for this SKU\n",
    "   - `unit_price` - SKU unit price\n",
    "\n",
    "3. **Create recommendations DataFrame:**\n",
    "   - Store in variable: `sku_recommendations`\n",
    "   \n",
    "**Required DataFrame `sku_recommendations` with columns:**\n",
    "- `customer_id` - Customer ID\n",
    "- `poc_type` - Customer's POC type\n",
    "- `recommended_sku` - SKU to recommend\n",
    "- `sku_name` - Product name\n",
    "- `category` - Product category\n",
    "- `opportunity_score` - Calculated opportunity value\n",
    "- `poc_penetration_pct` - Penetration in POC\n",
    "- `rationale` - Why recommend this SKU"
   ]
  },
  {
   "cell_type": "code",
   "execution_count": null,
   "id": "q3_sku_recommendations",
   "metadata": {
    "deletable": false,
    "nbgrader": {
     "cell_type": "code",
     "checksum": "e30d8b4a9ae0855579137862243d5ddc",
     "grade": false,
     "grade_id": "q3_sku_recommendations",
     "locked": false,
     "points": 0,
     "schema_version": 3,
     "solution": true,
     "task": false
    }
   },
   "outputs": [],
   "source": [
    "# YOUR CODE HERE\n",
    "raise NotImplementedError()"
   ]
  },
  {
   "cell_type": "code",
   "execution_count": null,
   "id": "test_q3_sku_recommendations",
   "metadata": {
    "deletable": false,
    "editable": false,
    "nbgrader": {
     "cell_type": "code",
     "checksum": "71733e9b480a4d9def4aebf19a370b8d",
     "grade": true,
     "grade_id": "test_q3_sku_recommendations",
     "hidden": true,
     "locked": false,
     "points": 10,
     "schema_version": 3,
     "solution": false,
     "task": false
    }
   },
   "outputs": [],
   "source": []
  },
  {
   "cell_type": "markdown",
   "id": "b04f4001",
   "metadata": {},
   "source": [
    "### 3.2 Generate Top Recommendations (8 points)\n",
    "\n",
    "From your `sku_recommendations` DataFrame:\n",
    "\n",
    "1. **Show top 20 recommendations** sorted by opportunity score\n",
    "   - Display: customer_id, poc_type, recommended_sku, sku_name, opportunity_score\n",
    "\n",
    "2. **Breakdown by POC type:**\n",
    "   - For each POC type, show:\n",
    "     - Number of recommendations\n",
    "     - Top 3 recommended SKUs with counts\n",
    "     - Total opportunity value\n",
    "\n",
    "3. **Export:** Top 100 recommendations to `outputs/sku_recommendations.csv`\n",
    "\n",
    "**Required output:**\n",
    "- File: `outputs/sku_recommendations.csv` (must exist with data)"
   ]
  },
  {
   "cell_type": "code",
   "execution_count": null,
   "id": "q3_export_recommendations",
   "metadata": {
    "deletable": false,
    "nbgrader": {
     "cell_type": "code",
     "checksum": "bb3946eb7b51292910330391e5782a6a",
     "grade": false,
     "grade_id": "q3_export_recommendations",
     "locked": false,
     "points": 0,
     "schema_version": 3,
     "solution": true,
     "task": false
    }
   },
   "outputs": [],
   "source": [
    "# YOUR CODE HERE\n",
    "raise NotImplementedError()"
   ]
  },
  {
   "cell_type": "code",
   "execution_count": null,
   "id": "test_q3_export_recommendations",
   "metadata": {
    "deletable": false,
    "editable": false,
    "nbgrader": {
     "cell_type": "code",
     "checksum": "3c9020ad1493ab2da6dcdf157a21feb7",
     "grade": true,
     "grade_id": "test_q3_export_recommendations",
     "hidden": true,
     "locked": false,
     "points": 8,
     "schema_version": 3,
     "solution": false,
     "task": false
    }
   },
   "outputs": [],
   "source": []
  },
  {
   "cell_type": "markdown",
   "id": "11eaf9ae",
   "metadata": {},
   "source": [
    "### 3.3 Business Insights & Strategic Actions (7 points)\n",
    "\n",
    "Provide data-driven insights and recommendations:\n",
    "\n",
    "**Analyze and report on:**\n",
    "\n",
    "1. **By POC Type:**\n",
    "   - Which POC types have highest propensity to purchase?\n",
    "   - Which SKUs to prioritize for each POC type?\n",
    "   - What's the total opportunity value ($) for each POC?\n",
    "   - Which POC types have best conversion rates?\n",
    "\n",
    "2. **By SKU:**\n",
    "   - Which SKUs have broadest appeal across all POC types?\n",
    "   - Which are POC-specific \"hero\" products?\n",
    "   - What are top 5 cross-sell opportunities? (SKU pairs frequently bought together)\n",
    "\n",
    "3. **Strategic Recommendations:**\n",
    "   - What are the top 3 actionable strategies for the sales team?\n",
    "   - How should resources be allocated across POC types?\n",
    "   - Which SKU categories should be prioritized?\n",
    "   - What immediate actions would drive the most revenue?\n",
    "\n",
    "**Format:** Clear, concise bullet points with supporting numbers\n",
    "\n",
    "**Note:** This is manually graded based on quality of insights"
   ]
  },
  {
   "cell_type": "code",
   "execution_count": null,
   "id": "q3_business_insights",
   "metadata": {
    "deletable": false,
    "nbgrader": {
     "cell_type": "code",
     "checksum": "ca125b2ff5aa305f26dc03dc97396a70",
     "grade": false,
     "grade_id": "q3_business_insights",
     "locked": false,
     "points": 0,
     "schema_version": 3,
     "solution": true,
     "task": false
    }
   },
   "outputs": [],
   "source": [
    "# YOUR CODE HERE\n",
    "raise NotImplementedError()"
   ]
  },
  {
   "cell_type": "code",
   "execution_count": null,
   "id": "test_q3_business_insights",
   "metadata": {
    "deletable": false,
    "editable": false,
    "nbgrader": {
     "cell_type": "code",
     "checksum": "36e5e932e17a2f8a6ca70fd96c758e73",
     "grade": true,
     "grade_id": "test_q3_business_insights",
     "hidden": true,
     "locked": false,
     "points": 7,
     "schema_version": 3,
     "solution": false,
     "task": false
    }
   },
   "outputs": [],
   "source": []
  },
  {
   "cell_type": "markdown",
   "id": "aa4bab8f",
   "metadata": {},
   "source": [
    "---\n",
    "\n",
    "## 📋 Assignment Completion Checklist\n",
    "\n",
    "**Verify you have completed all required tasks:**\n",
    "\n",
    "### ✅ **Question 1: Data Exploration & POC × SKU Performance (20 points)**\n",
    "- [ ] **Data Loading (5 pts)**: Loaded 5 DataFrames, converted dates, displayed summaries\n",
    "- [ ] **POC × SKU Analysis (10 pts)**: Created `poc_sku_performance` with all required columns\n",
    "- [ ] **Insights & Export (5 pts)**: Top SKUs analysis, exported to `outputs/poc_sku_performance.csv`\n",
    "\n",
    "### ✅ **Question 2: Customer Propensity Modeling (30 points)**\n",
    "- [ ] **Feature Engineering (10 pts)**: Created `customer_features` with RFM + target variable\n",
    "- [ ] **Model Training (10 pts)**: Built `propensity_model` and `model_metrics` dictionary\n",
    "- [ ] **Propensity Scoring (10 pts)**: Generated scores, segments, exported to `outputs/customer_propensity_scores.csv`\n",
    "\n",
    "### ✅ **Question 3: SKU Recommendations & Business Insights (25 points)**\n",
    "- [ ] **SKU Recommendations (15 pts)**: Created `sku_recommendations` for high-propensity customers\n",
    "- [ ] **Export & Analysis (5 pts)**: Top 20 display, POC breakdown, exported to `outputs/sku_recommendations.csv`\n",
    "- [ ] **Business Insights (5 pts)**: Actionable recommendations and strategic insights\n",
    "\n",
    "### 📊 **Final Deliverables**\n",
    "- [ ] `outputs/poc_sku_performance.csv` - Performance metrics by POC × SKU\n",
    "- [ ] `outputs/customer_propensity_scores.csv` - Propensity scores per customer  \n",
    "- [ ] `outputs/sku_recommendations.csv` - Top 100 SKU recommendations\n",
    "\n",
    "### 🎯 **Key Skills Demonstrated**\n",
    "- [ ] Data loading and joins (pandas)\n",
    "- [ ] Multi-level aggregations (POC × SKU)\n",
    "- [ ] Feature engineering\n",
    "- [ ] Classification modeling\n",
    "- [ ] Model evaluation\n",
    "- [ ] Recommendation systems\n",
    "- [ ] Business insight generation\n",
    "\n",
    "---\n",
    "\n",
    "**Total Points: 75**\n",
    "- Question 1: 20 points\n",
    "- Question 2: 30 points  \n",
    "- Question 3: 25 points\n"
   ]
  }
 ],
 "metadata": {
  "kernelspec": {
   "display_name": "venv",
   "language": "python",
   "name": "python3"
  },
  "language_info": {
   "codemirror_mode": {
    "name": "ipython",
    "version": 3
   },
   "file_extension": ".py",
   "mimetype": "text/x-python",
   "name": "python",
   "nbconvert_exporter": "python",
   "pygments_lexer": "ipython3",
   "version": "3.13.5"
  }
 },
 "nbformat": 4,
 "nbformat_minor": 5
}
